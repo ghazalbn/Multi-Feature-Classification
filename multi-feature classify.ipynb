{
  "nbformat": 4,
  "nbformat_minor": 0,
  "metadata": {
    "colab": {
      "provenance": []
    },
    "kernelspec": {
      "name": "python3",
      "display_name": "Python 3"
    },
    "language_info": {
      "name": "python"
    }
  },
  "cells": [
    {
      "cell_type": "markdown",
      "source": [
        "#library"
      ],
      "metadata": {
        "id": "g8yi1QRsHfXG"
      }
    },
    {
      "cell_type": "code",
      "source": [
        "!pip install keras-visualizer"
      ],
      "metadata": {
        "colab": {
          "base_uri": "https://localhost:8080/"
        },
        "id": "_FrwNn5Yj8h7",
        "outputId": "ac3e12f3-c0a3-43a6-a527-5b300adab58e"
      },
      "execution_count": null,
      "outputs": [
        {
          "output_type": "stream",
          "name": "stdout",
          "text": [
            "Looking in indexes: https://pypi.org/simple, https://us-python.pkg.dev/colab-wheels/public/simple/\n",
            "Collecting keras-visualizer\n",
            "  Downloading keras_visualizer-2.4-py3-none-any.whl (5.4 kB)\n",
            "Installing collected packages: keras-visualizer\n",
            "Successfully installed keras-visualizer-2.4\n"
          ]
        }
      ]
    },
    {
      "cell_type": "code",
      "source": [
        "import os\n",
        "import cv2\n",
        "import glob\n",
        "import random\n",
        "import tensorflow\n",
        "import numpy as np\n",
        "from sklearn import svm\n",
        "from keras import layers\n",
        "from keras import models\n",
        "from skimage import feature\n",
        "from tensorflow import keras\n",
        "import matplotlib.pyplot as plt\n",
        "from tensorflow.python import image\n",
        "from keras.utils import to_categorical\n",
        "from keras_visualizer import visualizer \n",
        "from keras.layers.core.dense import Dense\n",
        "from sklearn.metrics import accuracy_score\n",
        "from keras.utils.vis_utils import plot_model\n",
        "from tensorflow.python.ops.math_ops import add\n",
        "from keras.engine.sequential import Sequential\n",
        "from sklearn.preprocessing import LabelEncoder\n",
        "from keras.layers.serialization import activation\n",
        "from tensorflow.python.ops.math_ops import Sigmoid\n",
        "from sklearn.model_selection import train_test_split\n",
        "from keras.layers.convolutional.base_separable_conv import activations"
      ],
      "metadata": {
        "id": "9BEn3LaRNO2A"
      },
      "execution_count": null,
      "outputs": []
    },
    {
      "cell_type": "code",
      "source": [
        "def show(image, cmap=None):\n",
        "  plt.imshow(image, cmap=cmap)\n",
        "  plt.show()"
      ],
      "metadata": {
        "id": "MLan8ithTa2B"
      },
      "execution_count": null,
      "outputs": []
    },
    {
      "cell_type": "code",
      "source": [
        "def find_contour(image):\n",
        "  blurred = cv2.GaussianBlur(image,(3,3), 0)\n",
        "  gray = cv2.cvtColor(blurred, cv2.COLOR_BGR2GRAY)\n",
        "  # show(gray, 'gray')\n",
        "\n",
        "  # thresh = cv2.threshold(gray, 150, 255, cv2.THRESH_BINARY)[1]\n",
        "  # thresh = cv2.adaptiveThreshold(gray, 255, cv2.ADAPTIVE_THRESH_GAUSSIAN_C, cv2.THRESH_BINARY, 111, 10)\n",
        "  thresh = cv2.threshold(gray, 0, 255, cv2.THRESH_BINARY+cv2.THRESH_OTSU)[1]\n",
        "  # show(thresh, 'gray')\n",
        "\n",
        "  structural_element = np.ones((4, 4))\n",
        "  open = cv2.erode(thresh, structural_element)\n",
        "  # show(open, 'gray')\n",
        "\n",
        "  structural_element = np.ones((7, 7))\n",
        "  close = cv2.morphologyEx(open, cv2.MORPH_CLOSE, structural_element)\n",
        "  # show(close, 'gray')\n",
        "\n",
        "  structural_element = np.ones((3, 3))\n",
        "  open = cv2.morphologyEx(close, cv2.MORPH_OPEN, structural_element)\n",
        "  # show(open, 'gray')\n",
        "\n",
        "  # structural_element = np.ones((20, 30))\n",
        "  close = cv2.morphologyEx(open, cv2.MORPH_CLOSE, structural_element)\n",
        "  # show(close, 'gray')\n",
        "\n",
        "  cnts, hierarchy = cv2.findContours(close.copy(), cv2.RETR_TREE, cv2.CHAIN_APPROX_SIMPLE)\n",
        "  cnt = max(cnts, key=cv2.contourArea)\n",
        "  # cnt1 = max(cnts, key=len)\n",
        "  \n",
        "  # img = image.copy()\n",
        "  # cv2.drawContours(img, [cnt1], -1, (0,255,0), 1)\n",
        "  # cv2.drawContours(img, [cnt], -1, (255,0,0), 1)\n",
        "  # show(img)\n",
        "\n",
        "  return cnt"
      ],
      "metadata": {
        "id": "Cuvx_oS3kMuP"
      },
      "execution_count": null,
      "outputs": []
    },
    {
      "cell_type": "markdown",
      "source": [
        "#Part1.compatness"
      ],
      "metadata": {
        "id": "BNex_EaD8nbF"
      }
    },
    {
      "cell_type": "code",
      "execution_count": null,
      "metadata": {
        "id": "EN17ostNnHI_"
      },
      "outputs": [],
      "source": [
        "def compatness(image):\n",
        "  cnt = find_contour(image)\n",
        "  area = cv2.contourArea(cnt)\n",
        "  perimeter = cv2.arcLength(cnt, closed=True)\n",
        "  compactness_score = (4 * np.pi * float(area)) / (perimeter**2)\n",
        "  return compactness_score"
      ]
    },
    {
      "cell_type": "markdown",
      "source": [
        "#Part2.eccenticity"
      ],
      "metadata": {
        "id": "yfuazVl48o_I"
      }
    },
    {
      "cell_type": "code",
      "source": [
        "def eccenticity(image):\n",
        "  cnt = find_contour(image)\n",
        "  (x,y), (ma,MA), angle = cv2.fitEllipse(cnt)\n",
        "  eccentricity_score = np.sqrt(1 - (ma / MA)**2)\n",
        "  return eccentricity_score"
      ],
      "metadata": {
        "id": "7MMcGZH0nPXo"
      },
      "execution_count": null,
      "outputs": []
    },
    {
      "cell_type": "markdown",
      "source": [
        "#Part3.solidity"
      ],
      "metadata": {
        "id": "-iYszMlR8rTp"
      }
    },
    {
      "cell_type": "code",
      "source": [
        "def solidity(image):\n",
        "  cnt = find_contour(image)\n",
        "  area = cv2.contourArea(cnt)\n",
        "  hull = cv2.convexHull(cnt)\n",
        "  hull_area = cv2.contourArea(hull)\n",
        "  solidity_score = float(area) / hull_area\n",
        "  return solidity_score"
      ],
      "metadata": {
        "id": "4Ai0soihnPVm"
      },
      "execution_count": null,
      "outputs": []
    },
    {
      "cell_type": "markdown",
      "source": [
        "#Part4.LBP"
      ],
      "metadata": {
        "id": "ND4198GF8ybo"
      }
    },
    {
      "cell_type": "code",
      "source": [
        "def histogram_of_LBP(image, numPoints, radius, eps=1e-7):\n",
        "\tgray = cv2.cvtColor(image, cv2.COLOR_BGR2GRAY)\n",
        " \n",
        "\tbins = np.arange(0, numPoints + 3)\n",
        "\trange = (0, numPoints + 2)\n",
        "\tlbp = feature.local_binary_pattern(gray, numPoints, radius, \"uniform\")\n",
        "\thist_values, _ = np.histogram(lbp.ravel(), bins=bins, range=range)\n",
        "\n",
        " \t# normalize the histogram\n",
        "\thist_values = hist_values.astype(\"float\")\n",
        "\thist_values /= (hist_values.sum() + eps)\n",
        " \n",
        "\treturn hist_values"
      ],
      "metadata": {
        "id": "Smlqs2-_nPMh"
      },
      "execution_count": null,
      "outputs": []
    },
    {
      "cell_type": "markdown",
      "source": [
        "#validate function"
      ],
      "metadata": {
        "id": "Zsm9GZtLwJ0y"
      }
    },
    {
      "cell_type": "code",
      "source": [
        "def validating_func(image_ship_path, image_airplane_path):\n",
        "  ship_img = cv2.imread(image_ship_path)\n",
        "  airplane_img = cv2.imread(image_airplane_path)\n",
        "  eccenticity_ship, eccenticity_airplane = eccenticity(ship_img), eccenticity(airplane_img)\n",
        "  compatness_ship, compatness_airplane = compatness(ship_img), compatness(airplane_img)\n",
        "  solidity_ship, solidity_airplane = solidity(ship_img), solidity(airplane_img)\n",
        "  print(f\"Result for ship image:\\ncompatness is : {compatness_ship}\\t\\teccenticity is : {eccenticity_ship}\\t\\tsolidity is : {solidity_ship}\")\n",
        "  print(f\"Result for airplane image:\\ncompatness is : {compatness_airplane}\\t\\teccenticity is : {eccenticity_airplane}\\t\\tsolidity is : {solidity_airplane}\")\n",
        "  "
      ],
      "metadata": {
        "id": "hJIh5ZQ6wJM-"
      },
      "execution_count": null,
      "outputs": []
    },
    {
      "cell_type": "markdown",
      "source": [
        "#Part5.prepare dataset(just run this cell and not change)"
      ],
      "metadata": {
        "id": "weS9dHhXgJl1"
      }
    },
    {
      "cell_type": "code",
      "source": [
        "!gdown --id 1O_VkcGlWRR6h00VT8nXIgeI3RyvBpXbE\n",
        "!unzip dataset.zip\n",
        "classes = os.listdir(\"/content/dataset\")\n",
        "images_paths = glob.glob(\"/content/dataset/*/*\")"
      ],
      "metadata": {
        "id": "GM7pmrqmNWkA",
        "colab": {
          "base_uri": "https://localhost:8080/"
        },
        "outputId": "a07598fc-f242-4bcc-c20d-88d56f850f84"
      },
      "execution_count": null,
      "outputs": [
        {
          "output_type": "stream",
          "name": "stdout",
          "text": [
            "/usr/local/lib/python3.8/dist-packages/gdown/cli.py:127: FutureWarning: Option `--id` was deprecated in version 4.3.1 and will be removed in 5.0. You don't need to pass it anymore to use a file ID.\n",
            "  warnings.warn(\n",
            "Downloading...\n",
            "From: https://drive.google.com/uc?id=1O_VkcGlWRR6h00VT8nXIgeI3RyvBpXbE\n",
            "To: /content/dataset.zip\n",
            "100% 18.4M/18.4M [00:00<00:00, 159MB/s]\n",
            "Archive:  dataset.zip\n",
            "   creating: dataset/\n",
            "   creating: dataset/airplane/\n",
            "  inflating: dataset/airplane/airplane1.jpg  \n",
            "  inflating: dataset/airplane/airplane136.jpg  \n",
            "  inflating: dataset/airplane/airplane14.jpg  \n",
            "  inflating: dataset/airplane/airplane141.jpg  \n",
            "  inflating: dataset/airplane/airplane153.jpg  \n",
            "  inflating: dataset/airplane/airplane156.jpg  \n",
            "  inflating: dataset/airplane/airplane157.jpg  \n",
            "  inflating: dataset/airplane/airplane159.jpg  \n",
            "  inflating: dataset/airplane/airplane169.jpg  \n",
            "  inflating: dataset/airplane/airplane170.jpg  \n",
            "  inflating: dataset/airplane/airplane182.jpg  \n",
            "  inflating: dataset/airplane/airplane184.jpg  \n",
            "  inflating: dataset/airplane/airplane185.jpg  \n",
            "  inflating: dataset/airplane/airplane188.jpg  \n",
            "  inflating: dataset/airplane/airplane194.jpg  \n",
            "  inflating: dataset/airplane/airplane195.jpg  \n",
            "  inflating: dataset/airplane/airplane196.jpg  \n",
            "  inflating: dataset/airplane/airplane198.jpg  \n",
            "  inflating: dataset/airplane/airplane199.jpg  \n",
            "  inflating: dataset/airplane/airplane2.jpg  \n",
            "  inflating: dataset/airplane/airplane200.jpg  \n",
            "  inflating: dataset/airplane/airplane208.jpg  \n",
            "  inflating: dataset/airplane/airplane215.jpg  \n",
            "  inflating: dataset/airplane/airplane216.jpg  \n",
            "  inflating: dataset/airplane/airplane218.jpg  \n",
            "  inflating: dataset/airplane/airplane219.jpg  \n",
            "  inflating: dataset/airplane/airplane22.jpg  \n",
            "  inflating: dataset/airplane/airplane221.jpg  \n",
            "  inflating: dataset/airplane/airplane230.jpg  \n",
            "  inflating: dataset/airplane/airplane231.jpg  \n",
            "  inflating: dataset/airplane/airplane233.jpg  \n",
            "  inflating: dataset/airplane/airplane237.jpg  \n",
            "  inflating: dataset/airplane/airplane238.jpg  \n",
            "  inflating: dataset/airplane/airplane239.jpg  \n",
            "  inflating: dataset/airplane/airplane24.jpg  \n",
            "  inflating: dataset/airplane/airplane240.jpg  \n",
            "  inflating: dataset/airplane/airplane247.jpg  \n",
            "  inflating: dataset/airplane/airplane248.jpg  \n",
            "  inflating: dataset/airplane/airplane250.jpg  \n",
            "  inflating: dataset/airplane/airplane255.jpg  \n",
            "  inflating: dataset/airplane/airplane259.jpg  \n",
            "  inflating: dataset/airplane/airplane266.jpg  \n",
            "  inflating: dataset/airplane/airplane27.jpg  \n",
            "  inflating: dataset/airplane/airplane271.jpg  \n",
            "  inflating: dataset/airplane/airplane275.jpg  \n",
            "  inflating: dataset/airplane/airplane276.jpg  \n",
            "  inflating: dataset/airplane/airplane28.jpg  \n",
            "  inflating: dataset/airplane/airplane282.jpg  \n",
            "  inflating: dataset/airplane/airplane29.jpg  \n",
            "  inflating: dataset/airplane/airplane31.jpg  \n",
            "  inflating: dataset/airplane/airplane32.jpg  \n",
            "  inflating: dataset/airplane/airplane322.jpg  \n",
            "  inflating: dataset/airplane/airplane323.jpg  \n",
            "  inflating: dataset/airplane/airplane324.jpg  \n",
            "  inflating: dataset/airplane/airplane325.jpg  \n",
            "  inflating: dataset/airplane/airplane326.jpg  \n",
            "  inflating: dataset/airplane/airplane327.jpg  \n",
            "  inflating: dataset/airplane/airplane333.jpg  \n",
            "  inflating: dataset/airplane/airplane337.jpg  \n",
            "  inflating: dataset/airplane/airplane344.jpg  \n",
            "  inflating: dataset/airplane/airplane352.jpg  \n",
            "  inflating: dataset/airplane/airplane353.jpg  \n",
            "  inflating: dataset/airplane/airplane354.jpg  \n",
            "  inflating: dataset/airplane/airplane355.jpg  \n",
            "  inflating: dataset/airplane/airplane356.jpg  \n",
            "  inflating: dataset/airplane/airplane36.jpg  \n",
            "  inflating: dataset/airplane/airplane361.jpg  \n",
            "  inflating: dataset/airplane/airplane362.jpg  \n",
            "  inflating: dataset/airplane/airplane363.jpg  \n",
            "  inflating: dataset/airplane/airplane364.jpg  \n",
            "  inflating: dataset/airplane/airplane366.jpg  \n",
            "  inflating: dataset/airplane/airplane367.jpg  \n",
            "  inflating: dataset/airplane/airplane374.jpg  \n",
            "  inflating: dataset/airplane/airplane375.jpg  \n",
            "  inflating: dataset/airplane/airplane376.jpg  \n",
            "  inflating: dataset/airplane/airplane384.jpg  \n",
            "  inflating: dataset/airplane/airplane385.jpg  \n",
            "  inflating: dataset/airplane/airplane386.jpg  \n",
            "  inflating: dataset/airplane/airplane387.jpg  \n",
            "  inflating: dataset/airplane/airplane388.jpg  \n",
            "  inflating: dataset/airplane/airplane389.jpg  \n",
            "  inflating: dataset/airplane/airplane396.jpg  \n",
            "  inflating: dataset/airplane/airplane397.jpg  \n",
            "  inflating: dataset/airplane/airplane398.jpg  \n",
            "  inflating: dataset/airplane/airplane403.jpg  \n",
            "  inflating: dataset/airplane/airplane404.jpg  \n",
            "  inflating: dataset/airplane/airplane405.jpg  \n",
            "  inflating: dataset/airplane/airplane406.jpg  \n",
            "  inflating: dataset/airplane/airplane407.jpg  \n",
            "  inflating: dataset/airplane/airplane408.jpg  \n",
            "  inflating: dataset/airplane/airplane415.jpg  \n",
            "  inflating: dataset/airplane/airplane416.jpg  \n",
            "  inflating: dataset/airplane/airplane417.jpg  \n",
            "  inflating: dataset/airplane/airplane421.jpg  \n",
            "  inflating: dataset/airplane/airplane426.jpg  \n",
            "  inflating: dataset/airplane/airplane427.jpg  \n",
            "  inflating: dataset/airplane/airplane43.jpg  \n",
            "  inflating: dataset/airplane/airplane431.jpg  \n",
            "  inflating: dataset/airplane/airplane432.jpg  \n",
            "  inflating: dataset/airplane/airplane440.jpg  \n",
            "  inflating: dataset/airplane/airplane441.jpg  \n",
            "  inflating: dataset/airplane/airplane442.jpg  \n",
            "  inflating: dataset/airplane/airplane443.jpg  \n",
            "  inflating: dataset/airplane/airplane448.jpg  \n",
            "  inflating: dataset/airplane/airplane449.jpg  \n",
            "  inflating: dataset/airplane/airplane45.jpg  \n",
            "  inflating: dataset/airplane/airplane451.jpg  \n",
            "  inflating: dataset/airplane/airplane452.jpg  \n",
            "  inflating: dataset/airplane/airplane453.jpg  \n",
            "  inflating: dataset/airplane/airplane464.jpg  \n",
            "  inflating: dataset/airplane/airplane474.jpg  \n",
            "  inflating: dataset/airplane/airplane475.jpg  \n",
            "  inflating: dataset/airplane/airplane477.jpg  \n",
            "  inflating: dataset/airplane/airplane481.jpg  \n",
            "  inflating: dataset/airplane/airplane482.jpg  \n",
            "  inflating: dataset/airplane/airplane483.jpg  \n",
            "  inflating: dataset/airplane/airplane485.jpg  \n",
            "  inflating: dataset/airplane/airplane486.jpg  \n",
            "  inflating: dataset/airplane/airplane487.jpg  \n",
            "  inflating: dataset/airplane/airplane488.jpg  \n",
            "  inflating: dataset/airplane/airplane49.jpg  \n",
            "  inflating: dataset/airplane/airplane51.jpg  \n",
            "  inflating: dataset/airplane/airplane527.jpg  \n",
            "  inflating: dataset/airplane/airplane528.jpg  \n",
            "  inflating: dataset/airplane/airplane531.jpg  \n",
            "  inflating: dataset/airplane/airplane532.jpg  \n",
            "  inflating: dataset/airplane/airplane533.jpg  \n",
            "  inflating: dataset/airplane/airplane552.jpg  \n",
            "  inflating: dataset/airplane/airplane557.jpg  \n",
            "  inflating: dataset/airplane/airplane564.jpg  \n",
            "  inflating: dataset/airplane/airplane565.jpg  \n",
            "  inflating: dataset/airplane/airplane566.jpg  \n",
            "  inflating: dataset/airplane/airplane569.jpg  \n",
            "  inflating: dataset/airplane/airplane570.jpg  \n",
            "  inflating: dataset/airplane/airplane582.jpg  \n",
            "  inflating: dataset/airplane/airplane583.jpg  \n",
            "  inflating: dataset/airplane/airplane584.jpg  \n",
            "  inflating: dataset/airplane/airplane587.jpg  \n",
            "  inflating: dataset/airplane/airplane601.jpg  \n",
            "  inflating: dataset/airplane/airplane605.jpg  \n",
            "  inflating: dataset/airplane/airplane616.jpg  \n",
            "  inflating: dataset/airplane/airplane621.jpg  \n",
            "  inflating: dataset/airplane/airplane624.jpg  \n",
            "  inflating: dataset/airplane/airplane626.jpg  \n",
            "  inflating: dataset/airplane/airplane631.jpg  \n",
            "  inflating: dataset/airplane/airplane633.jpg  \n",
            "  inflating: dataset/airplane/airplane641.jpg  \n",
            "  inflating: dataset/airplane/airplane647.jpg  \n",
            "  inflating: dataset/airplane/airplane653.jpg  \n",
            "  inflating: dataset/airplane/airplane654.jpg  \n",
            "  inflating: dataset/airplane/airplane655.jpg  \n",
            "  inflating: dataset/airplane/airplane657.jpg  \n",
            "  inflating: dataset/airplane/airplane658.jpg  \n",
            "  inflating: dataset/airplane/airplane659.jpg  \n",
            "  inflating: dataset/airplane/airplane66.jpg  \n",
            "  inflating: dataset/airplane/airplane660.jpg  \n",
            "  inflating: dataset/airplane/airplane662.jpg  \n",
            "  inflating: dataset/airplane/airplane663.jpg  \n",
            "  inflating: dataset/airplane/airplane666.jpg  \n",
            "  inflating: dataset/airplane/airplane668.jpg  \n",
            "  inflating: dataset/airplane/airplane669.jpg  \n",
            "  inflating: dataset/airplane/airplane670.jpg  \n",
            "  inflating: dataset/airplane/airplane673.jpg  \n",
            "  inflating: dataset/airplane/airplane678.jpg  \n",
            "  inflating: dataset/airplane/airplane679.jpg  \n",
            "  inflating: dataset/airplane/airplane684.jpg  \n",
            "  inflating: dataset/airplane/airplane691.jpg  \n",
            "  inflating: dataset/airplane/airplane697.jpg  \n",
            "  inflating: dataset/airplane/airplane698.jpg  \n",
            "  inflating: dataset/airplane/airplane699.jpg  \n",
            "  inflating: dataset/airplane/airplane700.jpg  \n",
            "  inflating: dataset/airplane/airplane708.jpg  \n",
            "  inflating: dataset/airplane/airplane709.jpg  \n",
            "  inflating: dataset/airplane/airplane71.jpg  \n",
            "  inflating: dataset/airplane/airplane715.jpg  \n",
            "  inflating: dataset/airplane/airplane717.jpg  \n",
            "  inflating: dataset/airplane/airplane72.jpg  \n",
            "  inflating: dataset/airplane/airplane722.jpg  \n",
            "  inflating: dataset/airplane/airplane725.jpg  \n",
            "  inflating: dataset/airplane/airplane73.jpg  \n",
            "  inflating: dataset/airplane/airplane734.jpg  \n",
            "  inflating: dataset/airplane/airplane735.jpg  \n",
            "  inflating: dataset/airplane/airplane749.jpg  \n",
            "  inflating: dataset/airplane/airplane750.jpg  \n",
            "  inflating: dataset/airplane/airplane751.jpg  \n",
            "  inflating: dataset/airplane/airplane768.jpg  \n",
            "  inflating: dataset/airplane/airplane771.jpg  \n",
            "  inflating: dataset/airplane/airplane773.jpg  \n",
            "  inflating: dataset/airplane/airplane775.jpg  \n",
            "  inflating: dataset/airplane/airplane776.jpg  \n",
            "  inflating: dataset/airplane/airplane79.jpg  \n",
            "  inflating: dataset/airplane/airplane799.jpg  \n",
            "  inflating: dataset/airplane/airplane800.jpg  \n",
            "  inflating: dataset/airplane/airplane802.jpg  \n",
            "  inflating: dataset/airplane/airplane803.jpg  \n",
            "  inflating: dataset/airplane/airplane81.jpg  \n",
            "  inflating: dataset/airplane/airplane811.jpg  \n",
            "  inflating: dataset/airplane/airplane812.jpg  \n",
            "  inflating: dataset/airplane/airplane813.jpg  \n",
            "  inflating: dataset/airplane/airplane823.jpg  \n",
            "  inflating: dataset/airplane/airplane824.jpg  \n",
            "  inflating: dataset/airplane/airplane825.jpg  \n",
            "  inflating: dataset/airplane/airplane849.jpg  \n",
            "  inflating: dataset/airplane/airplane852.jpg  \n",
            "  inflating: dataset/airplane/airplane862.jpg  \n",
            "  inflating: dataset/airplane/airplane864.jpg  \n",
            "  inflating: dataset/airplane/airplane865.jpg  \n",
            "  inflating: dataset/airplane/airplane877.jpg  \n",
            "  inflating: dataset/airplane/airplane879.jpg  \n",
            "  inflating: dataset/airplane/airplane885.jpg  \n",
            "  inflating: dataset/airplane/airplane889.jpg  \n",
            "  inflating: dataset/airplane/airplane890.jpg  \n",
            "  inflating: dataset/airplane/airplane897.jpg  \n",
            "  inflating: dataset/airplane/airplane906.jpg  \n",
            "  inflating: dataset/airplane/airplane91.jpg  \n",
            "  inflating: dataset/airplane/airplane92.jpg  \n",
            "  inflating: dataset/airplane/airplane942.jpg  \n",
            "  inflating: dataset/airplane/airplane944.jpg  \n",
            "  inflating: dataset/airplane/airplane953.jpg  \n",
            "  inflating: dataset/airplane/airplane954.jpg  \n",
            "  inflating: dataset/airplane/airplane966.jpg  \n",
            "  inflating: dataset/airplane/airplane971.jpg  \n",
            "  inflating: dataset/airplane/airplane972.jpg  \n",
            "  inflating: dataset/airplane/airplane973.jpg  \n",
            "  inflating: dataset/airplane/airplane974.jpg  \n",
            "  inflating: dataset/airplane/airplane976.jpg  \n",
            "  inflating: dataset/airplane/airplane982.jpg  \n",
            "  inflating: dataset/airplane/airplane993.jpg  \n",
            "  inflating: dataset/airplane/airplane994.jpg  \n",
            "   creating: dataset/ship/\n",
            "  inflating: dataset/ship/1073645.jpg  \n",
            "  inflating: dataset/ship/1114371.jpg  \n",
            "  inflating: dataset/ship/1114372.jpg  \n",
            "  inflating: dataset/ship/1229806.jpg  \n",
            "  inflating: dataset/ship/1244690.jpg  \n",
            "  inflating: dataset/ship/1250085.jpg  \n",
            "  inflating: dataset/ship/1263459.jpg  \n",
            "  inflating: dataset/ship/1296498.jpg  \n",
            "  inflating: dataset/ship/1318952.jpg  \n",
            "  inflating: dataset/ship/1334846.jpg  \n",
            "  inflating: dataset/ship/1334849.jpg  \n",
            "  inflating: dataset/ship/1334851.jpg  \n",
            "  inflating: dataset/ship/1345054.jpg  \n",
            "  inflating: dataset/ship/1346587.jpg  \n",
            "  inflating: dataset/ship/1412936.jpg  \n",
            "  inflating: dataset/ship/1413805.jpg  \n",
            "  inflating: dataset/ship/1473060.jpg  \n",
            "  inflating: dataset/ship/1569516.jpg  \n",
            "  inflating: dataset/ship/1569560.jpg  \n",
            "  inflating: dataset/ship/1603686.jpg  \n",
            "  inflating: dataset/ship/1603687.jpg  \n",
            "  inflating: dataset/ship/1603850.jpg  \n",
            "  inflating: dataset/ship/1603853.jpg  \n",
            "  inflating: dataset/ship/1728153.jpg  \n",
            "  inflating: dataset/ship/1737175.jpg  \n",
            "  inflating: dataset/ship/1786288.jpg  \n",
            "  inflating: dataset/ship/1787418.jpg  \n",
            "  inflating: dataset/ship/1788614.jpg  \n",
            "  inflating: dataset/ship/1831322.jpg  \n",
            "  inflating: dataset/ship/1833418.jpg  \n",
            "  inflating: dataset/ship/1843993.jpg  \n",
            "  inflating: dataset/ship/1904939.jpg  \n",
            "  inflating: dataset/ship/1937807.jpg  \n",
            "  inflating: dataset/ship/1943931.jpg  \n",
            "  inflating: dataset/ship/1958103.jpg  \n",
            "  inflating: dataset/ship/1958284.jpg  \n",
            "  inflating: dataset/ship/1989612.jpg  \n",
            "  inflating: dataset/ship/1991234.jpg  \n",
            "  inflating: dataset/ship/2010303.jpg  \n",
            "  inflating: dataset/ship/2010304.jpg  \n",
            "  inflating: dataset/ship/2012364.jpg  \n",
            "  inflating: dataset/ship/2012365.jpg  \n",
            "  inflating: dataset/ship/2012366.jpg  \n",
            "  inflating: dataset/ship/2125171.jpg  \n",
            "  inflating: dataset/ship/2127031.jpg  \n",
            "  inflating: dataset/ship/2136335.jpg  \n",
            "  inflating: dataset/ship/2160804.jpg  \n",
            "  inflating: dataset/ship/2183166.jpg  \n",
            "  inflating: dataset/ship/2184605.jpg  \n",
            "  inflating: dataset/ship/2192267.jpg  \n",
            "  inflating: dataset/ship/2192272.jpg  \n",
            "  inflating: dataset/ship/2196336.jpg  \n",
            "  inflating: dataset/ship/2199205.jpg  \n",
            "  inflating: dataset/ship/2208821.jpg  \n",
            "  inflating: dataset/ship/2217944.jpg  \n",
            "  inflating: dataset/ship/2222503.jpg  \n",
            "  inflating: dataset/ship/2228236.jpg  \n",
            "  inflating: dataset/ship/2235705.jpg  \n",
            "  inflating: dataset/ship/2235747.jpg  \n",
            "  inflating: dataset/ship/2235770.jpg  \n",
            "  inflating: dataset/ship/2235771.jpg  \n",
            "  inflating: dataset/ship/2237388.jpg  \n",
            "  inflating: dataset/ship/2239436.jpg  \n",
            "  inflating: dataset/ship/2240083.jpg  \n",
            "  inflating: dataset/ship/2240087.jpg  \n",
            "  inflating: dataset/ship/2246589.jpg  \n",
            "  inflating: dataset/ship/2246769.jpg  \n",
            "  inflating: dataset/ship/2252297.jpg  \n",
            "  inflating: dataset/ship/2252298.jpg  \n",
            "  inflating: dataset/ship/2252499.jpg  \n",
            "  inflating: dataset/ship/2255446.jpg  \n",
            "  inflating: dataset/ship/2255448.jpg  \n",
            "  inflating: dataset/ship/2255990.jpg  \n",
            "  inflating: dataset/ship/2259527.jpg  \n",
            "  inflating: dataset/ship/2259786.jpg  \n",
            "  inflating: dataset/ship/2263658.jpg  \n",
            "  inflating: dataset/ship/2265605.jpg  \n",
            "  inflating: dataset/ship/2266165.jpg  \n",
            "  inflating: dataset/ship/2270066.jpg  \n",
            "  inflating: dataset/ship/2279386.jpg  \n",
            "  inflating: dataset/ship/2307973.jpg  \n",
            "  inflating: dataset/ship/613378.jpg  \n",
            "  inflating: dataset/ship/627875.jpg  \n",
            "  inflating: dataset/ship/676641.jpg  \n",
            "  inflating: dataset/ship/676917.jpg  \n",
            "  inflating: dataset/ship/697552.jpg  \n",
            "  inflating: dataset/ship/809706.jpg  \n",
            "  inflating: dataset/ship/949998.jpg  \n",
            "  inflating: dataset/ship/953465.jpg  \n"
          ]
        }
      ]
    },
    {
      "cell_type": "code",
      "source": [
        "image_ship_path = 'dataset/ship/1603853.jpg'\n",
        "image_airplane_path = 'dataset/airplane/airplane325.jpg'\n",
        "validating_func(image_ship_path, image_airplane_path)"
      ],
      "metadata": {
        "id": "O62GBu7pVO4k",
        "colab": {
          "base_uri": "https://localhost:8080/"
        },
        "outputId": "8cc6fb51-d619-480f-ad4c-8bf6af805afb"
      },
      "execution_count": 72,
      "outputs": [
        {
          "output_type": "stream",
          "name": "stdout",
          "text": [
            "Result for ship image:\n",
            "compatness is : 0.6817744565013821\t\teccenticity is : 0.981031097066142\t\tsolidity is : 0.9831235697940504\n",
            "Result for airplane image:\n",
            "compatness is : 0.1846583078551962\t\teccenticity is : 0.7420817333011284\t\tsolidity is : 0.8883087170918774\n"
          ]
        }
      ]
    },
    {
      "cell_type": "code",
      "source": [
        "x_data , y_data = [], []\n",
        "for img_path in images_paths:\n",
        "  x_data.append(cv2.resize(cv2.imread(img_path), (224,224)))\n",
        "  if img_path.split(\"/\")[3] == \"ship\":\n",
        "    y_data.append(0)\n",
        "  else:\n",
        "    y_data.append(1)  "
      ],
      "metadata": {
        "id": "VV2LraFIeTzf"
      },
      "execution_count": null,
      "outputs": []
    },
    {
      "cell_type": "code",
      "source": [
        " x_train, x_test, y_train, y_test = train_test_split(x_data, y_data,test_size = 0.2, shuffle= True)"
      ],
      "metadata": {
        "id": "pPluW3-beTzg"
      },
      "execution_count": null,
      "outputs": []
    },
    {
      "cell_type": "markdown",
      "source": [
        "#Part6. Exctract features and determine classifier"
      ],
      "metadata": {
        "id": "r2Lu46_O81dO"
      }
    },
    {
      "cell_type": "code",
      "source": [
        "print(len(histogram_of_LBP(x_train[0], 8, 1)))"
      ],
      "metadata": {
        "colab": {
          "base_uri": "https://localhost:8080/"
        },
        "id": "RNRJPB9bHex5",
        "outputId": "267ea258-c453-4b66-83d8-a60cd541de2a"
      },
      "execution_count": 61,
      "outputs": [
        {
          "output_type": "stream",
          "name": "stdout",
          "text": [
            "10\n"
          ]
        }
      ]
    },
    {
      "cell_type": "code",
      "source": [
        "def get_featureMatrix(data):\n",
        "  feature_matrix = [\n",
        "      [\n",
        "        compatness(image), \n",
        "        eccenticity(image), \n",
        "        solidity(image)\n",
        "      ]+[*histogram_of_LBP(image, 8, 1)]\n",
        "      for image in data\n",
        "  ]\n",
        "  return np.array(feature_matrix)\n"
      ],
      "metadata": {
        "id": "yACJSHhDgel7"
      },
      "execution_count": null,
      "outputs": []
    },
    {
      "cell_type": "code",
      "source": [
        "# model 1\n",
        "feature_matrix_train = get_featureMatrix(x_train)\n",
        "print(feature_matrix_train.shape)\n",
        "\n",
        "#determine classifier and train \n",
        "clf = svm.LinearSVC()\n",
        "clf.fit(feature_matrix_train, y_train)"
      ],
      "metadata": {
        "id": "fNovCJaYdDJj",
        "colab": {
          "base_uri": "https://localhost:8080/"
        },
        "outputId": "45d94ce8-6f87-4eba-d026-e0505128a03e"
      },
      "execution_count": null,
      "outputs": [
        {
          "output_type": "stream",
          "name": "stdout",
          "text": [
            "(254, 13)\n"
          ]
        },
        {
          "output_type": "execute_result",
          "data": {
            "text/plain": [
              "LinearSVC()"
            ]
          },
          "metadata": {},
          "execution_count": 53
        }
      ]
    },
    {
      "cell_type": "markdown",
      "source": [
        "#Part7"
      ],
      "metadata": {
        "id": "bslYazlcBvZH"
      }
    },
    {
      "cell_type": "code",
      "source": [
        "#test on test dataset\n",
        "feature_matrix_test = get_featureMatrix(x_test)\n",
        "predicted_labels = clf.predict(feature_matrix_test)\n",
        "accuracy = accuracy_score(y_test, predicted_labels)\n",
        "print('accuracy:', accuracy*100, '%')"
      ],
      "metadata": {
        "id": "Mi7ulg_ogUMa",
        "colab": {
          "base_uri": "https://localhost:8080/"
        },
        "outputId": "05621c8e-08d2-44a9-ee2f-4e89685a5681"
      },
      "execution_count": null,
      "outputs": [
        {
          "output_type": "stream",
          "name": "stdout",
          "text": [
            "accuracy: 87.5 %\n"
          ]
        }
      ]
    },
    {
      "cell_type": "markdown",
      "source": [
        "#Part8"
      ],
      "metadata": {
        "id": "PEGR2WSLB3vc"
      }
    },
    {
      "cell_type": "code",
      "source": [
        "#test visualize\n",
        "index = random.randint(0, len(x_test)-1)\n",
        "prediction = clf.predict(get_featureMatrix(np.array([x_test[index]])))\n",
        "plt.title(f\"Ground truth lable :{y_test[index]} and predict class : {prediction}\")\n",
        "plt.imshow(x_test[index])\n",
        "plt.show()"
      ],
      "metadata": {
        "colab": {
          "base_uri": "https://localhost:8080/",
          "height": 281
        },
        "id": "AJpVJN4o5QKM",
        "outputId": "d65136b6-2895-4f92-f081-5b785c76834c"
      },
      "execution_count": null,
      "outputs": [
        {
          "output_type": "display_data",
          "data": {
            "text/plain": [
              "<Figure size 432x288 with 1 Axes>"
            ],
            "image/png": "[encoded data removed]"
          },
          "metadata": {
            "needs_background": "light"
          }
        }
      ]
    }
  ]
}